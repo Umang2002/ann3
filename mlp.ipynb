{
 "cells": [
  {
   "cell_type": "markdown",
   "id": "949d06c1",
   "metadata": {},
   "source": [
    "# Assignment 2 - part 1\n",
    "\n",
    "## Feed forward network (multilayer perceptron)\n",
    "\n",
    "In this assignment you shall develop the complete training and evaluation pipeline for a fully connected feed forward network.\n",
    "This shall cover all the stages discussed in the course, starting from data preparation and finishing with model evaluation.\n",
    "You can (you should) use the full functionality of PyTorch and all its packages.\n",
    "\n",
    "You can write most of your code as standard python scripts and packages outside jupyter notebook.\n",
    "The calls to the functionality shall, however, be executed from this notebook (not command-line).\n",
    "All printouts images and comments should be displayed in this notebook.\n",
    "\n",
    "You shall use this framework to train (at least) 3 feed-forward neural networks and compare their performance:\n",
    "- first, use only linear layers and non-linearites of your choice. You shall decide on the depth and width of the layers as well as all other hyperparameters as you see fit.\n",
    "- second, use linear layers, non-linearities and drop-out\n",
    "- third, use linear layers, non-linearities,  drop-out and batch norm\n"
   ]
  },
  {
   "cell_type": "markdown",
   "id": "6cc59e24",
   "metadata": {},
   "source": [
    "### Model training and evaluation\n",
    "\n",
    "Define the function `mlp_train` for training and evaluating an MLP model for classification of **FashionMNIST** data.\n",
    "The function shall be flexible so that it can take in all necessary hyper-parameters for the training. You shall not fix the hyper-parameters in the code of the function itself as fixed values.\n",
    "\n",
    "The `mlp_train` function shall return \n",
    "* the trained model `mlp_model`\n",
    "* anything else you deem important or useful for monitoring purposes etc. "
   ]
  },
  {
   "cell_type": "code",
   "execution_count": 2,
   "id": "87818299",
   "metadata": {},
   "outputs": [
    {
     "name": "stdout",
     "output_type": "stream",
     "text": [
      "Note: you may need to restart the kernel to use updated packages.Requirement already satisfied: torchvision in c:\\users\\admin\\appdata\\local\\programs\\python\\python39\\lib\\site-packages (0.18.1)\n",
      "Requirement already satisfied: numpy in c:\\users\\admin\\appdata\\local\\programs\\python\\python39\\lib\\site-packages (from torchvision) (1.24.3)\n",
      "Requirement already satisfied: torch==2.3.1 in c:\\users\\admin\\appdata\\local\\programs\\python\\python39\\lib\\site-packages (from torchvision) (2.3.1)\n",
      "Requirement already satisfied: pillow!=8.3.*,>=5.3.0 in c:\\users\\admin\\appdata\\local\\programs\\python\\python39\\lib\\site-packages (from torchvision) (9.5.0)\n",
      "Requirement already satisfied: filelock in c:\\users\\admin\\appdata\\local\\programs\\python\\python39\\lib\\site-packages (from torch==2.3.1->torchvision) (3.14.0)\n",
      "Requirement already satisfied: typing-extensions>=4.8.0 in c:\\users\\admin\\appdata\\local\\programs\\python\\python39\\lib\\site-packages (from torch==2.3.1->torchvision) (4.11.0)\n",
      "Requirement already satisfied: sympy in c:\\users\\admin\\appdata\\local\\programs\\python\\python39\\lib\\site-packages (from torch==2.3.1->torchvision) (1.12)\n",
      "Requirement already satisfied: networkx in c:\\users\\admin\\appdata\\local\\programs\\python\\python39\\lib\\site-packages (from torch==2.3.1->torchvision) (3.1)\n",
      "Requirement already satisfied: jinja2 in c:\\users\\admin\\appdata\\local\\programs\\python\\python39\\lib\\site-packages (from torch==2.3.1->torchvision) (3.1.3)\n",
      "Requirement already satisfied: fsspec in c:\\users\\admin\\appdata\\local\\programs\\python\\python39\\lib\\site-packages (from torch==2.3.1->torchvision) (2024.5.0)\n",
      "Requirement already satisfied: mkl<=2021.4.0,>=2021.1.1 in c:\\users\\admin\\appdata\\local\\programs\\python\\python39\\lib\\site-packages (from torch==2.3.1->torchvision) (2021.4.0)\n",
      "Requirement already satisfied: intel-openmp==2021.* in c:\\users\\admin\\appdata\\local\\programs\\python\\python39\\lib\\site-packages (from mkl<=2021.4.0,>=2021.1.1->torch==2.3.1->torchvision) (2021.4.0)\n",
      "Requirement already satisfied: tbb==2021.* in c:\\users\\admin\\appdata\\local\\programs\\python\\python39\\lib\\site-packages (from mkl<=2021.4.0,>=2021.1.1->torch==2.3.1->torchvision) (2021.12.0)\n",
      "Requirement already satisfied: MarkupSafe>=2.0 in c:\\users\\admin\\appdata\\local\\programs\\python\\python39\\lib\\site-packages (from jinja2->torch==2.3.1->torchvision) (2.1.3)\n",
      "Requirement already satisfied: mpmath>=0.19 in c:\\users\\admin\\appdata\\local\\programs\\python\\python39\\lib\\site-packages (from sympy->torch==2.3.1->torchvision) (1.3.0)\n",
      "\n"
     ]
    },
    {
     "name": "stderr",
     "output_type": "stream",
     "text": [
      "\n",
      "[notice] A new release of pip is available: 23.1.2 -> 24.0\n",
      "[notice] To update, run: python.exe -m pip install --upgrade pip\n"
     ]
    }
   ],
   "source": [
    "%pip install torchvision"
   ]
  },
  {
   "cell_type": "code",
   "execution_count": 10,
   "id": "643c71c4",
   "metadata": {},
   "outputs": [],
   "source": [
    "# DATA Loading\n",
    "# IMPORTING ALL THE NECCESARY LIBRARIES\n",
    "import torch\n",
    "import torch.nn as nn\n",
    "import torch.optim as optim\n",
    "import torchvision\n",
    "import torchvision.transforms as transforms\n",
    "from torch.utils.data import DataLoader\n",
    "\n",
    "# Define the transformation for the data\n",
    "transform = transforms.Compose([\n",
    "    transforms.ToTensor(),\n",
    "    transforms.Normalize((0.5,), (0.5,))\n",
    "])\n",
    "\n",
    "# Load the FashionMNIST dataset\n",
    "train_dataset = torchvision.datasets.FashionMNIST(root='./data', train=True, download=True, transform=transform)\n",
    "test_dataset = torchvision.datasets.FashionMNIST(root='./data', train=False, download=True, transform=transform)\n",
    "\n",
    "# Data loaders NOW WE HAVE ALL THE DATA \n",
    "train_loader = DataLoader(train_dataset, batch_size=64, shuffle=True)\n",
    "test_loader = DataLoader(test_dataset, batch_size=64, shuffle=False)\n"
   ]
  },
  {
   "cell_type": "code",
   "execution_count": 11,
   "id": "156e20f4",
   "metadata": {},
   "outputs": [],
   "source": [
    "#Model Definition\n",
    "class BasicMLP(nn.Module):\n",
    "\n",
    "    def __init__(self, input_size, hidden_sizes, output_size):\n",
    "        super(BasicMLP, self).__init__()\n",
    "        self.flatten = nn.Flatten()  # Flattens the input data to a 1D tensor\n",
    "        self.hidden_layers = nn.ModuleList() # A list to hold all the hidden layers\n",
    "        in_size = input_size\n",
    "        for h in hidden_sizes:  # Loop through each specified hidden layer size\n",
    "            self.hidden_layers.append(nn.Linear(in_size, h)) # Add a linear layer\n",
    "            in_size = h  # Update input size to current layer's output size\n",
    "        self.output_layer = nn.Linear(in_size, output_size)  # Final layer producing output predictions\n",
    "\n",
    "    def forward(self, x):\n",
    "        x = self.flatten(x) # Flatten input data\n",
    "        for layer in self.hidden_layers:\n",
    "            x = torch.relu(layer(x))   # Apply ReLU activation function after each layer\n",
    "        x = self.output_layer(x)  # Output layer without activation \n",
    "        return x\n",
    "\n",
    "class DropoutMLP(nn.Module):\n",
    "    def __init__(self, input_size, hidden_sizes, output_size, dropout_rate):\n",
    "        super(DropoutMLP, self).__init__()\n",
    "        layers = []\n",
    "        current_size = input_size\n",
    "        for hidden_size in hidden_sizes:\n",
    "            layers.append(nn.Linear(current_size, hidden_size))\n",
    "            layers.append(nn.ReLU())\n",
    "            layers.append(nn.Dropout(dropout_rate))  # Dropout layer after activation\n",
    "            current_size = hidden_size\n",
    "        layers.append(nn.Linear(current_size, output_size))\n",
    "        self.network = nn.Sequential(*layers)  # Using Sequential to chain all layers together\n",
    "\n",
    "    def forward(self, x):\n",
    "        x = x.view(x.size(0), -1)  # Flatten the input tensor\n",
    "        return self.network(x)\n",
    "\n",
    "\n",
    "class BatchNormMLP(nn.Module):\n",
    "    def __init__(self, input_size, hidden_sizes, output_size, dropout_rate):\n",
    "        super(BatchNormMLP, self).__init__()\n",
    "        layers = []\n",
    "        current_size = input_size\n",
    "        for hidden_size in hidden_sizes:\n",
    "            layers.append(nn.Linear(current_size, hidden_size))\n",
    "            layers.append(nn.BatchNorm1d(hidden_size))  # Batch normalization layer\n",
    "            layers.append(nn.ReLU())\n",
    "            layers.append(nn.Dropout(dropout_rate))\n",
    "            current_size = hidden_size\n",
    "        layers.append(nn.Linear(current_size, output_size))\n",
    "        self.network = nn.Sequential(*layers)\n",
    "\n",
    "    def forward(self, x):\n",
    "        x = x.view(x.size(0), -1)  # Flatten the input tensor\n",
    "        return self.network(x)\n",
    "\n"
   ]
  },
  {
   "cell_type": "markdown",
   "id": "388b64cd",
   "metadata": {},
   "source": [
    "### Model application\n",
    "\n",
    "Define a simple utility function `mlp_apply` that uses the train model to classify 10 examples of the test set and displays the 10 images in a grid together with their true and predicted labels."
   ]
  },
  {
   "cell_type": "code",
   "execution_count": 8,
   "id": "decd3420",
   "metadata": {},
   "outputs": [
    {
     "data": {
      "image/png": "[encoded data removed]",
      "text/plain": [
       "<Figure size 1200x600 with 10 Axes>"
      ]
     },
     "metadata": {},
     "output_type": "display_data"
    }
   ],
   "source": [
    "# define function mlp_train so that it can be run from this cel\n",
    "from cnn_code.helpers import mlp_apply\n",
    "\n",
    "# user parameters\n",
    "test_indexes = [0,1,2,3,4,5,6,7,8,9]  # list of 10 indexes - examples to extract from test set\n",
    "mlp_apply(basic_model, test_loader, test_indexes)\n",
    "# mlp_apply(mlp_model, test_indexes)"
   ]
  },
  {
   "cell_type": "markdown",
   "id": "597e233f",
   "metadata": {},
   "source": [
    "### All experiments for getting high accuracy"
   ]
  },
  {
   "cell_type": "markdown",
   "id": "fe947cec",
   "metadata": {},
   "source": [
    "### Train and apply model\n",
    "\n",
    "Use your functions defined above to train the three models. Try different values of the hyper-paramter settings. You shall achieve at least 80% test accuracy with all your models and at least 90% test accuracy with the best one.\n",
    "\n",
    "Describe briefly your three models and your hyper-parameter setups and comment your results.\n",
    "\n",
    "**Compare the performance of the three models using suitable supportive tables and graphs, and complemented by relevant comments.**"
   ]
  },
  {
   "cell_type": "markdown",
   "id": "6d39568e",
   "metadata": {},
   "source": []
  },
  {
   "cell_type": "code",
   "execution_count": 9,
   "id": "2241e979",
   "metadata": {},
   "outputs": [
    {
     "name": "stdout",
     "output_type": "stream",
     "text": [
      "Epoch [1/32], Train Loss: 0.4992, Train Accuracy: 0.8158, Test Loss: 0.4161, Test Accuracy: 0.8474\n",
      "Epoch [2/32], Train Loss: 0.3725, Train Accuracy: 0.8626, Test Loss: 0.4246, Test Accuracy: 0.8509\n",
      "Epoch [3/32], Train Loss: 0.3332, Train Accuracy: 0.8780, Test Loss: 0.3874, Test Accuracy: 0.8583\n",
      "Epoch [4/32], Train Loss: 0.3054, Train Accuracy: 0.8865, Test Loss: 0.3581, Test Accuracy: 0.8698\n",
      "Epoch [5/32], Train Loss: 0.2866, Train Accuracy: 0.8936, Test Loss: 0.3394, Test Accuracy: 0.8788\n",
      "Epoch [6/32], Train Loss: 0.2691, Train Accuracy: 0.9002, Test Loss: 0.3340, Test Accuracy: 0.8777\n",
      "Epoch [7/32], Train Loss: 0.2541, Train Accuracy: 0.9039, Test Loss: 0.3683, Test Accuracy: 0.8743\n",
      "Epoch [8/32], Train Loss: 0.2413, Train Accuracy: 0.9103, Test Loss: 0.3355, Test Accuracy: 0.8821\n",
      "Epoch [9/32], Train Loss: 0.2312, Train Accuracy: 0.9126, Test Loss: 0.3403, Test Accuracy: 0.8825\n",
      "Epoch [10/32], Train Loss: 0.2216, Train Accuracy: 0.9164, Test Loss: 0.3480, Test Accuracy: 0.8847\n",
      "Epoch [11/32], Train Loss: 0.2090, Train Accuracy: 0.9222, Test Loss: 0.3526, Test Accuracy: 0.8849\n",
      "Epoch [12/32], Train Loss: 0.1972, Train Accuracy: 0.9244, Test Loss: 0.3884, Test Accuracy: 0.8799\n",
      "Epoch [13/32], Train Loss: 0.1880, Train Accuracy: 0.9290, Test Loss: 0.3683, Test Accuracy: 0.8852\n",
      "Epoch [14/32], Train Loss: 0.1822, Train Accuracy: 0.9302, Test Loss: 0.3575, Test Accuracy: 0.8885\n",
      "Epoch [15/32], Train Loss: 0.1722, Train Accuracy: 0.9340, Test Loss: 0.3709, Test Accuracy: 0.8910\n",
      "Epoch [16/32], Train Loss: 0.1650, Train Accuracy: 0.9369, Test Loss: 0.4073, Test Accuracy: 0.8864\n",
      "Epoch [17/32], Train Loss: 0.1560, Train Accuracy: 0.9401, Test Loss: 0.4065, Test Accuracy: 0.8836\n",
      "Epoch [18/32], Train Loss: 0.1486, Train Accuracy: 0.9436, Test Loss: 0.4224, Test Accuracy: 0.8851\n",
      "Epoch [19/32], Train Loss: 0.1466, Train Accuracy: 0.9445, Test Loss: 0.3895, Test Accuracy: 0.8870\n",
      "Epoch [20/32], Train Loss: 0.1339, Train Accuracy: 0.9498, Test Loss: 0.4308, Test Accuracy: 0.8861\n",
      "Epoch [21/32], Train Loss: 0.1348, Train Accuracy: 0.9478, Test Loss: 0.4526, Test Accuracy: 0.8849\n",
      "Epoch [22/32], Train Loss: 0.1268, Train Accuracy: 0.9514, Test Loss: 0.3992, Test Accuracy: 0.8945\n",
      "Epoch [23/32], Train Loss: 0.1198, Train Accuracy: 0.9549, Test Loss: 0.4603, Test Accuracy: 0.8863\n",
      "Epoch [24/32], Train Loss: 0.1185, Train Accuracy: 0.9545, Test Loss: 0.4379, Test Accuracy: 0.8921\n",
      "Epoch [25/32], Train Loss: 0.1113, Train Accuracy: 0.9577, Test Loss: 0.4576, Test Accuracy: 0.8917\n",
      "Epoch [26/32], Train Loss: 0.1094, Train Accuracy: 0.9590, Test Loss: 0.4874, Test Accuracy: 0.8903\n",
      "Epoch [27/32], Train Loss: 0.1032, Train Accuracy: 0.9606, Test Loss: 0.4822, Test Accuracy: 0.8961\n",
      "Epoch [28/32], Train Loss: 0.0965, Train Accuracy: 0.9633, Test Loss: 0.4941, Test Accuracy: 0.8907\n",
      "Epoch [29/32], Train Loss: 0.0961, Train Accuracy: 0.9633, Test Loss: 0.4996, Test Accuracy: 0.8937\n",
      "Epoch [30/32], Train Loss: 0.0926, Train Accuracy: 0.9645, Test Loss: 0.5110, Test Accuracy: 0.8943\n",
      "Epoch [31/32], Train Loss: 0.0938, Train Accuracy: 0.9652, Test Loss: 0.5388, Test Accuracy: 0.8939\n",
      "Epoch [32/32], Train Loss: 0.0864, Train Accuracy: 0.9674, Test Loss: 0.5685, Test Accuracy: 0.8936\n",
      "Epoch [1/32], Train Loss: 0.6089, Train Accuracy: 0.7799, Test Loss: 0.4837, Test Accuracy: 0.8260\n",
      "Epoch [2/32], Train Loss: 0.4635, Train Accuracy: 0.8352, Test Loss: 0.4413, Test Accuracy: 0.8428\n",
      "Epoch [3/32], Train Loss: 0.4254, Train Accuracy: 0.8496, Test Loss: 0.3904, Test Accuracy: 0.8579\n",
      "Epoch [4/32], Train Loss: 0.4001, Train Accuracy: 0.8569, Test Loss: 0.3723, Test Accuracy: 0.8618\n",
      "Epoch [5/32], Train Loss: 0.3857, Train Accuracy: 0.8621, Test Loss: 0.3626, Test Accuracy: 0.8716\n",
      "Epoch [6/32], Train Loss: 0.3743, Train Accuracy: 0.8656, Test Loss: 0.3610, Test Accuracy: 0.8747\n",
      "Epoch [7/32], Train Loss: 0.3636, Train Accuracy: 0.8699, Test Loss: 0.3539, Test Accuracy: 0.8734\n",
      "Epoch [8/32], Train Loss: 0.3505, Train Accuracy: 0.8727, Test Loss: 0.3576, Test Accuracy: 0.8726\n",
      "Epoch [9/32], Train Loss: 0.3446, Train Accuracy: 0.8753, Test Loss: 0.3456, Test Accuracy: 0.8771\n",
      "Epoch [10/32], Train Loss: 0.3409, Train Accuracy: 0.8761, Test Loss: 0.3435, Test Accuracy: 0.8755\n",
      "Epoch [11/32], Train Loss: 0.3360, Train Accuracy: 0.8791, Test Loss: 0.3476, Test Accuracy: 0.8744\n",
      "Epoch [12/32], Train Loss: 0.3286, Train Accuracy: 0.8822, Test Loss: 0.3421, Test Accuracy: 0.8753\n",
      "Epoch [13/32], Train Loss: 0.3210, Train Accuracy: 0.8836, Test Loss: 0.3359, Test Accuracy: 0.8797\n",
      "Epoch [14/32], Train Loss: 0.3149, Train Accuracy: 0.8857, Test Loss: 0.3422, Test Accuracy: 0.8776\n",
      "Epoch [15/32], Train Loss: 0.3143, Train Accuracy: 0.8858, Test Loss: 0.3356, Test Accuracy: 0.8845\n",
      "Epoch [16/32], Train Loss: 0.3121, Train Accuracy: 0.8879, Test Loss: 0.3307, Test Accuracy: 0.8852\n",
      "Epoch [17/32], Train Loss: 0.3052, Train Accuracy: 0.8902, Test Loss: 0.3359, Test Accuracy: 0.8837\n",
      "Epoch [18/32], Train Loss: 0.3009, Train Accuracy: 0.8900, Test Loss: 0.3367, Test Accuracy: 0.8811\n",
      "Epoch [19/32], Train Loss: 0.3031, Train Accuracy: 0.8917, Test Loss: 0.3340, Test Accuracy: 0.8846\n",
      "Epoch [20/32], Train Loss: 0.2942, Train Accuracy: 0.8942, Test Loss: 0.3191, Test Accuracy: 0.8883\n",
      "Epoch [21/32], Train Loss: 0.2924, Train Accuracy: 0.8945, Test Loss: 0.3292, Test Accuracy: 0.8851\n",
      "Epoch [22/32], Train Loss: 0.2892, Train Accuracy: 0.8952, Test Loss: 0.3338, Test Accuracy: 0.8814\n",
      "Epoch [23/32], Train Loss: 0.2872, Train Accuracy: 0.8951, Test Loss: 0.3210, Test Accuracy: 0.8894\n",
      "Epoch [24/32], Train Loss: 0.2873, Train Accuracy: 0.8952, Test Loss: 0.3392, Test Accuracy: 0.8846\n",
      "Epoch [25/32], Train Loss: 0.2833, Train Accuracy: 0.8988, Test Loss: 0.3374, Test Accuracy: 0.8848\n",
      "Epoch [26/32], Train Loss: 0.2837, Train Accuracy: 0.8969, Test Loss: 0.3254, Test Accuracy: 0.8862\n",
      "Epoch [27/32], Train Loss: 0.2776, Train Accuracy: 0.8997, Test Loss: 0.3243, Test Accuracy: 0.8875\n",
      "Epoch [28/32], Train Loss: 0.2753, Train Accuracy: 0.9011, Test Loss: 0.3208, Test Accuracy: 0.8899\n",
      "Epoch [29/32], Train Loss: 0.2702, Train Accuracy: 0.9010, Test Loss: 0.3342, Test Accuracy: 0.8840\n",
      "Epoch [30/32], Train Loss: 0.2724, Train Accuracy: 0.9013, Test Loss: 0.3256, Test Accuracy: 0.8867\n",
      "Epoch [31/32], Train Loss: 0.2703, Train Accuracy: 0.9021, Test Loss: 0.3292, Test Accuracy: 0.8892\n",
      "Epoch [32/32], Train Loss: 0.2699, Train Accuracy: 0.9038, Test Loss: 0.3232, Test Accuracy: 0.8883\n",
      "Epoch [1/32], Train Loss: 0.5546, Train Accuracy: 0.8086, Test Loss: 0.4376, Test Accuracy: 0.8424\n",
      "Epoch [2/32], Train Loss: 0.4224, Train Accuracy: 0.8489, Test Loss: 0.3724, Test Accuracy: 0.8629\n",
      "Epoch [3/32], Train Loss: 0.3836, Train Accuracy: 0.8620, Test Loss: 0.3664, Test Accuracy: 0.8683\n",
      "Epoch [4/32], Train Loss: 0.3638, Train Accuracy: 0.8691, Test Loss: 0.3441, Test Accuracy: 0.8733\n",
      "Epoch [5/32], Train Loss: 0.3441, Train Accuracy: 0.8745, Test Loss: 0.3463, Test Accuracy: 0.8745\n",
      "Epoch [6/32], Train Loss: 0.3333, Train Accuracy: 0.8799, Test Loss: 0.3336, Test Accuracy: 0.8750\n",
      "Epoch [7/32], Train Loss: 0.3192, Train Accuracy: 0.8848, Test Loss: 0.3235, Test Accuracy: 0.8806\n",
      "Epoch [8/32], Train Loss: 0.3086, Train Accuracy: 0.8881, Test Loss: 0.3129, Test Accuracy: 0.8859\n",
      "Epoch [9/32], Train Loss: 0.2968, Train Accuracy: 0.8921, Test Loss: 0.3055, Test Accuracy: 0.8887\n",
      "Epoch [10/32], Train Loss: 0.2901, Train Accuracy: 0.8939, Test Loss: 0.3085, Test Accuracy: 0.8884\n",
      "Epoch [11/32], Train Loss: 0.2764, Train Accuracy: 0.8980, Test Loss: 0.3017, Test Accuracy: 0.8893\n",
      "Epoch [12/32], Train Loss: 0.2733, Train Accuracy: 0.8988, Test Loss: 0.2964, Test Accuracy: 0.8920\n",
      "Epoch [13/32], Train Loss: 0.2615, Train Accuracy: 0.9038, Test Loss: 0.2948, Test Accuracy: 0.8950\n",
      "Epoch [14/32], Train Loss: 0.2596, Train Accuracy: 0.9048, Test Loss: 0.2956, Test Accuracy: 0.8930\n",
      "Epoch [15/32], Train Loss: 0.2501, Train Accuracy: 0.9083, Test Loss: 0.2936, Test Accuracy: 0.8957\n",
      "Epoch [16/32], Train Loss: 0.2464, Train Accuracy: 0.9081, Test Loss: 0.3023, Test Accuracy: 0.8918\n",
      "Epoch [17/32], Train Loss: 0.2395, Train Accuracy: 0.9113, Test Loss: 0.2990, Test Accuracy: 0.8966\n",
      "Epoch [18/32], Train Loss: 0.2363, Train Accuracy: 0.9127, Test Loss: 0.2892, Test Accuracy: 0.8964\n",
      "Epoch [19/32], Train Loss: 0.2309, Train Accuracy: 0.9157, Test Loss: 0.2910, Test Accuracy: 0.8962\n",
      "Epoch [20/32], Train Loss: 0.2271, Train Accuracy: 0.9164, Test Loss: 0.2946, Test Accuracy: 0.8936\n",
      "Epoch [21/32], Train Loss: 0.2204, Train Accuracy: 0.9185, Test Loss: 0.2893, Test Accuracy: 0.8979\n",
      "Epoch [22/32], Train Loss: 0.2182, Train Accuracy: 0.9188, Test Loss: 0.2944, Test Accuracy: 0.9001\n",
      "Epoch [23/32], Train Loss: 0.2147, Train Accuracy: 0.9207, Test Loss: 0.2894, Test Accuracy: 0.8995\n",
      "Epoch [24/32], Train Loss: 0.2106, Train Accuracy: 0.9218, Test Loss: 0.2866, Test Accuracy: 0.9000\n",
      "Epoch [25/32], Train Loss: 0.2078, Train Accuracy: 0.9220, Test Loss: 0.2852, Test Accuracy: 0.9006\n",
      "Epoch [26/32], Train Loss: 0.2003, Train Accuracy: 0.9261, Test Loss: 0.2910, Test Accuracy: 0.9021\n",
      "Epoch [27/32], Train Loss: 0.1977, Train Accuracy: 0.9261, Test Loss: 0.3000, Test Accuracy: 0.8975\n",
      "Epoch [28/32], Train Loss: 0.1986, Train Accuracy: 0.9266, Test Loss: 0.2910, Test Accuracy: 0.8995\n",
      "Epoch [29/32], Train Loss: 0.1903, Train Accuracy: 0.9307, Test Loss: 0.2922, Test Accuracy: 0.9007\n",
      "Epoch [30/32], Train Loss: 0.1890, Train Accuracy: 0.9298, Test Loss: 0.2959, Test Accuracy: 0.9018\n",
      "Epoch [31/32], Train Loss: 0.1881, Train Accuracy: 0.9302, Test Loss: 0.2895, Test Accuracy: 0.9035\n",
      "Epoch [32/32], Train Loss: 0.1828, Train Accuracy: 0.9314, Test Loss: 0.2970, Test Accuracy: 0.9020\n"
     ]
    }
   ],
   "source": [
    "# define function mlp_train so that it can be run from this cell\n",
    "from cnn_code.helpers import mlp_train\n",
    "\n",
    "# Training and Evaluating Models\n",
    "input_size = 28 * 28\n",
    "hidden_sizes = [512,256, 128]\n",
    "output_size = 10\n",
    "num_epochs = 32\n",
    "learning_rate = 0.001\n",
    "dropout_rate = 0.34\n",
    "\n",
    "# 1. Basic MLP\n",
    "basic_model = BasicMLP(input_size, hidden_sizes, output_size)\n",
    "criterion = nn.CrossEntropyLoss()\n",
    "optimizer = optim.Adam(basic_model.parameters(), lr=learning_rate)\n",
    "basic_model, basic_train_losses, basic_test_losse, basic_train_accuracy,basic_test_accuracy   = mlp_train(basic_model, train_loader, test_loader, criterion, optimizer, num_epochs)\n",
    "\n",
    "\n",
    "# 2. Dropout MLP\n",
    "dropout_model = DropoutMLP(input_size, hidden_sizes, output_size, dropout_rate)\n",
    "optimizer = optim.Adam(dropout_model.parameters(), lr=learning_rate)\n",
    "dropout_model, dropout_train_losses, dropout_test_losses,dropout_train_accuracy,dropout_test_accuracy = mlp_train(dropout_model, train_loader, test_loader, criterion, optimizer, num_epochs)\n",
    "\n",
    "\n",
    "# 3. BatchNorm + Dropout MLP\n",
    "batchnorm_model = BatchNormMLP(input_size, hidden_sizes, output_size, dropout_rate)\n",
    "optimizer = optim.Adam(batchnorm_model.parameters(), lr=learning_rate)\n",
    "batchnorm_model, batchnorm_train_losses, batchnorm_test_losses,batchnorm_train_accuracy,batchnorm_test_accuracy= mlp_train(batchnorm_model, train_loader, test_loader, criterion, optimizer, num_epochs)\n"
   ]
  },
  {
   "cell_type": "markdown",
   "id": "762c54d9",
   "metadata": {},
   "source": [
    "#### Conclusion\n",
    "\n",
    "*  After 32 epoch we are getting test accuracy of 90.20%.\n",
    "*  To increase the accuracy we can use hyperparameter tuning and after doing it we have finalize our parameters and using that parameters we have the best accuracy.\n",
    "*  We can see that from the results we have recieved that the test loss is gradually decreasing and test acuracy is increasing which is good for performance."
   ]
  },
  {
   "cell_type": "code",
   "execution_count": null,
   "id": "405bf4e3",
   "metadata": {},
   "outputs": [],
   "source": []
  }
 ],
 "metadata": {
  "kernelspec": {
   "display_name": "Python 3",
   "language": "python",
   "name": "python3"
  },
  "language_info": {
   "codemirror_mode": {
    "name": "ipython",
    "version": 3
   },
   "file_extension": ".py",
   "mimetype": "text/x-python",
   "name": "python",
   "nbconvert_exporter": "python",
   "pygments_lexer": "ipython3",
   "version": "3.9.10"
  }
 },
 "nbformat": 4,
 "nbformat_minor": 5
}
